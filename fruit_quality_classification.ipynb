{
  "metadata": {
    "kernelspec": {
      "language": "python",
      "display_name": "Python 3",
      "name": "python3"
    },
    "language_info": {
      "name": "python",
      "version": "3.7.12",
      "mimetype": "text/x-python",
      "codemirror_mode": {
        "name": "ipython",
        "version": 3
      },
      "pygments_lexer": "ipython3",
      "nbconvert_exporter": "python",
      "file_extension": ".py"
    },
    "kaggle": {
      "accelerator": "none",
      "dataSources": [
        {
          "sourceId": 3366446,
          "sourceType": "datasetVersion",
          "datasetId": 2030337
        }
      ],
      "dockerImageVersionId": 30302,
      "isInternetEnabled": true,
      "language": "python",
      "sourceType": "notebook",
      "isGpuEnabled": false
    },
    "colab": {
      "provenance": []
    }
  },
  "nbformat_minor": 0,
  "nbformat": 4,
  "cells": [
    {
      "source": [
        "\n",
        "# IMPORTANT: RUN THIS CELL IN ORDER TO IMPORT YOUR KAGGLE DATA SOURCES\n",
        "# TO THE CORRECT LOCATION (/kaggle/input) IN YOUR NOTEBOOK,\n",
        "# THEN FEEL FREE TO DELETE THIS CELL.\n",
        "# NOTE: THIS NOTEBOOK ENVIRONMENT DIFFERS FROM KAGGLE'S PYTHON\n",
        "# ENVIRONMENT SO THERE MAY BE MISSING LIBRARIES USED BY YOUR\n",
        "# NOTEBOOK.\n",
        "\n",
        "import os\n",
        "import sys\n",
        "from tempfile import NamedTemporaryFile\n",
        "from urllib.request import urlopen\n",
        "from urllib.parse import unquote, urlparse\n",
        "from urllib.error import HTTPError\n",
        "from zipfile import ZipFile\n",
        "import tarfile\n",
        "import shutil\n",
        "\n",
        "CHUNK_SIZE = 40960\n",
        "DATA_SOURCE_MAPPING = 'fruitnet-indian-fruits-dataset-with-quality:https%3A%2F%2Fstorage.googleapis.com%2Fkaggle-data-sets%2F2030337%2F3366446%2Fbundle%2Farchive.zip%3FX-Goog-Algorithm%3DGOOG4-RSA-SHA256%26X-Goog-Credential%3Dgcp-kaggle-com%2540kaggle-161607.iam.gserviceaccount.com%252F20240929%252Fauto%252Fstorage%252Fgoog4_request%26X-Goog-Date%3D20240929T185125Z%26X-Goog-Expires%3D259200%26X-Goog-SignedHeaders%3Dhost%26X-Goog-Signature%3D4d5a70bf0f073ed59d56fb47175dd6acae12bec0688c5ff73073e939a213acb02da9a16729617d8b38da18cae14afa892eea6947479a90ac49d468da5d52733cd3b72d2fc00bd4ec171628197cf25f0ae203e54547abce14f7bc5ae82964eb5ca3e46818deab46dc0098f41588c913a73191df7fd90f9a68f934a5d301c02f03b513cfad520804da2c950e6088f68907adaf19aa0f98480c41b5a438e0eb1b5f241161869fb81783c45a3cf07bb682247acb3000b3f12fba533cc016de82928a27538128bfc8dd62f184f0e188ef04b19a363db2588171b8e7b1617bd5fe7226e8188b67d340f2491f5dafb0854b79d92a143d031178118ce1f9da040e9495c1'\n",
        "\n",
        "KAGGLE_INPUT_PATH='/kaggle/input'\n",
        "KAGGLE_WORKING_PATH='/kaggle/working'\n",
        "KAGGLE_SYMLINK='kaggle'\n",
        "\n",
        "!umount /kaggle/input/ 2> /dev/null\n",
        "shutil.rmtree('/kaggle/input', ignore_errors=True)\n",
        "os.makedirs(KAGGLE_INPUT_PATH, 0o777, exist_ok=True)\n",
        "os.makedirs(KAGGLE_WORKING_PATH, 0o777, exist_ok=True)\n",
        "\n",
        "try:\n",
        "  os.symlink(KAGGLE_INPUT_PATH, os.path.join(\"..\", 'input'), target_is_directory=True)\n",
        "except FileExistsError:\n",
        "  pass\n",
        "try:\n",
        "  os.symlink(KAGGLE_WORKING_PATH, os.path.join(\"..\", 'working'), target_is_directory=True)\n",
        "except FileExistsError:\n",
        "  pass\n",
        "\n",
        "for data_source_mapping in DATA_SOURCE_MAPPING.split(','):\n",
        "    directory, download_url_encoded = data_source_mapping.split(':')\n",
        "    download_url = unquote(download_url_encoded)\n",
        "    filename = urlparse(download_url).path\n",
        "    destination_path = os.path.join(KAGGLE_INPUT_PATH, directory)\n",
        "    try:\n",
        "        with urlopen(download_url) as fileres, NamedTemporaryFile() as tfile:\n",
        "            total_length = fileres.headers['content-length']\n",
        "            print(f'Downloading {directory}, {total_length} bytes compressed')\n",
        "            dl = 0\n",
        "            data = fileres.read(CHUNK_SIZE)\n",
        "            while len(data) > 0:\n",
        "                dl += len(data)\n",
        "                tfile.write(data)\n",
        "                done = int(50 * dl / int(total_length))\n",
        "                sys.stdout.write(f\"\\r[{'=' * done}{' ' * (50-done)}] {dl} bytes downloaded\")\n",
        "                sys.stdout.flush()\n",
        "                data = fileres.read(CHUNK_SIZE)\n",
        "            if filename.endswith('.zip'):\n",
        "              with ZipFile(tfile) as zfile:\n",
        "                zfile.extractall(destination_path)\n",
        "            else:\n",
        "              with tarfile.open(tfile.name) as tarfile:\n",
        "                tarfile.extractall(destination_path)\n",
        "            print(f'\\nDownloaded and uncompressed: {directory}')\n",
        "    except HTTPError as e:\n",
        "        print(f'Failed to load (likely expired) {download_url} to path {destination_path}')\n",
        "        continue\n",
        "    except OSError as e:\n",
        "        print(f'Failed to load {download_url} to path {destination_path}')\n",
        "        continue\n",
        "\n",
        "print('Data source import complete.')"
      ],
      "metadata": {
        "id": "LEXb8M3qH9CJ",
        "outputId": "c9372949-d347-4303-d6a4-d0e5a3b0f03f",
        "colab": {
          "base_uri": "https://localhost:8080/"
        }
      },
      "cell_type": "code",
      "outputs": [
        {
          "output_type": "stream",
          "name": "stdout",
          "text": [
            "Downloading fruitnet-indian-fruits-dataset-with-quality, 3254784659 bytes compressed\n",
            "[============================                      ] 1865277440 bytes downloaded"
          ]
        }
      ],
      "execution_count": null
    },
    {
      "cell_type": "code",
      "source": [
        "import numpy as np\n",
        "import pandas as pd\n",
        "import os\n",
        "import time\n",
        "import matplotlib.pyplot as plt\n",
        "import cv2\n",
        "import seaborn as sns\n",
        "\n",
        "sns.set_style(\"darkgrid\")\n",
        "import shutil\n",
        "from sklearn.metrics import confusion_matrix, classification_report\n",
        "from sklearn.model_selection import train_test_split\n",
        "import tensorflow as tf\n",
        "from tensorflow import keras\n",
        "from tensorflow.keras.preprocessing.image import ImageDataGenerator\n",
        "from tensorflow.keras.layers import Dense,Flatten\n",
        "from tensorflow.keras.models import Sequential\n",
        "from tensorflow.keras.optimizers import Adam\n",
        "from tensorflow.keras.metrics import categorical_crossentropy\n",
        "from tensorflow.keras import regularizers\n",
        "from tensorflow.keras.models import Model\n",
        "\n",
        "# pprevent annoying tensorflow warning\n",
        "import logging\n",
        "\n",
        "logging.getLogger(\"tensorflow\").setLevel(logging.ERROR)\n",
        "import warnings\n",
        "\n",
        "warnings.simplefilter(\"ignore\")"
      ],
      "metadata": {
        "_uuid": "8f2839f25d086af736a60e9eeb907d3b93b6e0e5",
        "_cell_guid": "b1076dfc-b9ad-4769-8c92-a6c4dae69d19",
        "execution": {
          "iopub.status.busy": "2024-09-29T16:58:38.418738Z",
          "iopub.execute_input": "2024-09-29T16:58:38.419358Z",
          "iopub.status.idle": "2024-09-29T16:58:40.727762Z",
          "shell.execute_reply.started": "2024-09-29T16:58:38.419295Z",
          "shell.execute_reply": "2024-09-29T16:58:40.726863Z"
        },
        "trusted": true,
        "id": "0SwKPb5jH9CL"
      },
      "execution_count": null,
      "outputs": []
    },
    {
      "cell_type": "code",
      "source": [
        "import pathlib\n",
        "sdir = r\"../input/fruitnet-indian-fruits-dataset-with-quality/Processed Images_Fruits\"\n",
        "bad_path = r\"../input/fruitnet-indian-fruits-dataset-with-quality/Processed Images_Fruits/Bad Quality_Fruits\"\n",
        "good_path = r\"../input/fruitnet-indian-fruits-dataset-with-quality/Processed Images_Fruits/Good Quality_Fruits\"\n",
        "mixed_path = r\"../input/fruitnet-indian-fruits-dataset-with-quality/Processed Images_Fruits/Mixed Qualit_Fruits\"\n",
        "\n",
        "BATCH_SIZE = 32\n",
        "IMG_SIZE = (160, 160)\n",
        "filepaths = []\n",
        "labels = []\n",
        "ht = 0\n",
        "wt = 0\n",
        "samples = 0\n",
        "sample_count = 20\n",
        "for quality in [bad_path, good_path, mixed_path]:\n",
        "    fruit_list = os.listdir(quality)\n",
        "    for fruit in fruit_list:\n",
        "        fruit_path = os.path.join(quality, fruit)\n",
        "        img_list = os.listdir(fruit_path)\n",
        "        for i, img in enumerate(img_list):\n",
        "            img_path = os.path.join(fruit_path, img)\n",
        "            if i < sample_count:\n",
        "                img = plt.imread(img_path)\n",
        "                ht += img.shape[0]\n",
        "                wt += img.shape[1]\n",
        "                samples += 1\n",
        "            filepaths.append(img_path)\n",
        "            if quality == mixed_path:\n",
        "                labels.append(fruit + \"_mixed\")\n",
        "            else:\n",
        "                labels.append(fruit)\n",
        "Fseries = pd.Series(filepaths, name=\"filepaths\")\n",
        "Lseries = pd.Series(labels, name=\"labels\")\n",
        "df = pd.concat([Fseries, Lseries], axis=1)\n",
        "df"
      ],
      "metadata": {
        "execution": {
          "iopub.status.busy": "2024-09-29T16:58:40.733237Z",
          "iopub.execute_input": "2024-09-29T16:58:40.733526Z",
          "iopub.status.idle": "2024-09-29T16:58:41.701199Z",
          "shell.execute_reply.started": "2024-09-29T16:58:40.733499Z",
          "shell.execute_reply": "2024-09-29T16:58:41.700219Z"
        },
        "trusted": true,
        "id": "8ZfufirOH9CL"
      },
      "execution_count": null,
      "outputs": []
    },
    {
      "cell_type": "code",
      "source": [
        "df['labels']=df['labels'].astype('category')"
      ],
      "metadata": {
        "execution": {
          "iopub.status.busy": "2024-09-29T16:58:41.702575Z",
          "iopub.execute_input": "2024-09-29T16:58:41.70296Z",
          "iopub.status.idle": "2024-09-29T16:58:41.711964Z",
          "shell.execute_reply.started": "2024-09-29T16:58:41.70292Z",
          "shell.execute_reply": "2024-09-29T16:58:41.710989Z"
        },
        "trusted": true,
        "id": "Zj0yv1MPH9CM"
      },
      "execution_count": null,
      "outputs": []
    },
    {
      "cell_type": "code",
      "source": [
        "df['labels'].value_counts()"
      ],
      "metadata": {
        "execution": {
          "iopub.status.busy": "2024-09-29T16:58:41.714653Z",
          "iopub.execute_input": "2024-09-29T16:58:41.714971Z",
          "iopub.status.idle": "2024-09-29T16:58:41.72417Z",
          "shell.execute_reply.started": "2024-09-29T16:58:41.714944Z",
          "shell.execute_reply": "2024-09-29T16:58:41.723097Z"
        },
        "trusted": true,
        "id": "YNzFQp5GH9CM"
      },
      "execution_count": null,
      "outputs": []
    },
    {
      "cell_type": "code",
      "source": [
        "import matplotlib.pyplot as plt\n",
        "import seaborn as sns\n",
        "\n",
        "df['labels'].unique()"
      ],
      "metadata": {
        "execution": {
          "iopub.status.busy": "2024-09-29T16:58:41.72528Z",
          "iopub.execute_input": "2024-09-29T16:58:41.725615Z",
          "iopub.status.idle": "2024-09-29T16:58:41.736012Z",
          "shell.execute_reply.started": "2024-09-29T16:58:41.725556Z",
          "shell.execute_reply": "2024-09-29T16:58:41.735036Z"
        },
        "trusted": true,
        "id": "hkErHfLNH9CM"
      },
      "execution_count": null,
      "outputs": []
    },
    {
      "cell_type": "code",
      "source": [
        "fig, ax = plt.subplots(nrows=5, ncols=5, figsize=(15,15), constrained_layout=True)\n",
        "ax=ax.flatten()\n",
        "j=0\n",
        "for i in df['labels'].unique():\n",
        "\n",
        "    ax[j].imshow(plt.imread(df[df['labels']==i].iloc[0,0]))\n",
        "    ax[j].set_title(i)\n",
        "    j=j+1"
      ],
      "metadata": {
        "execution": {
          "iopub.status.busy": "2024-09-29T16:58:41.737207Z",
          "iopub.execute_input": "2024-09-29T16:58:41.737551Z",
          "iopub.status.idle": "2024-09-29T16:58:48.403275Z",
          "shell.execute_reply.started": "2024-09-29T16:58:41.73751Z",
          "shell.execute_reply": "2024-09-29T16:58:48.40191Z"
        },
        "trusted": true,
        "id": "Q7pKTKEDH9CM"
      },
      "execution_count": null,
      "outputs": []
    },
    {
      "cell_type": "code",
      "source": [
        "from sklearn.model_selection import train_test_split\n",
        "X_train, X_test=train_test_split(df, test_size=0.2, random_state=123)"
      ],
      "metadata": {
        "execution": {
          "iopub.status.busy": "2024-09-29T16:58:48.4046Z",
          "iopub.execute_input": "2024-09-29T16:58:48.404967Z",
          "iopub.status.idle": "2024-09-29T16:58:48.414713Z",
          "shell.execute_reply.started": "2024-09-29T16:58:48.404932Z",
          "shell.execute_reply": "2024-09-29T16:58:48.41366Z"
        },
        "trusted": true,
        "id": "JlOdVlWWH9CM"
      },
      "execution_count": null,
      "outputs": []
    },
    {
      "cell_type": "code",
      "source": [
        "print(X_train.shape)\n",
        "print(X_test.shape)"
      ],
      "metadata": {
        "execution": {
          "iopub.status.busy": "2024-09-29T16:58:48.416233Z",
          "iopub.execute_input": "2024-09-29T16:58:48.416571Z",
          "iopub.status.idle": "2024-09-29T16:58:48.423832Z",
          "shell.execute_reply.started": "2024-09-29T16:58:48.416539Z",
          "shell.execute_reply": "2024-09-29T16:58:48.422814Z"
        },
        "trusted": true,
        "id": "oAyEK_KCH9CN"
      },
      "execution_count": null,
      "outputs": []
    },
    {
      "cell_type": "code",
      "source": [
        "from tensorflow.keras.applications.inception_resnet_v2 import InceptionResNetV2\n",
        "from tensorflow.keras.applications.inception_resnet_v2 import preprocess_input\n",
        "from tensorflow.keras.preprocessing.image import ImageDataGenerator\n",
        "\n",
        "trainGen = ImageDataGenerator(preprocessing_function=preprocess_input,\n",
        "                              validation_split=0.2)\n",
        "testGen =ImageDataGenerator(preprocessing_function= preprocess_input)\n",
        "X_train_img = trainGen.flow_from_dataframe(dataframe=X_train,\n",
        "                                           x_col='filepaths',\n",
        "                                           y_col='labels',\n",
        "                                           class_mode='categorical',\n",
        "                                           subset='training',\n",
        "                                           batch_size=32)\n",
        "X_val_img = trainGen.flow_from_dataframe(dataframe=X_train,\n",
        "                                         x_col='filepaths',\n",
        "                                         y_col='labels',\n",
        "                                         class_mode='categorical',\n",
        "                                         subset='validation',\n",
        "                                         batch_size=32)\n",
        "X_test_img =testGen.flow_from_dataframe(dataframe=X_test,\n",
        "                                        x_col='filepaths',\n",
        "                                        y_col='labels',\n",
        "                                        class_mode='categorical',\n",
        "                                        batch_size=32,\n",
        "                                        shuffle=False)"
      ],
      "metadata": {
        "execution": {
          "iopub.status.busy": "2024-09-29T16:58:48.425338Z",
          "iopub.execute_input": "2024-09-29T16:58:48.425653Z",
          "iopub.status.idle": "2024-09-29T16:59:14.052678Z",
          "shell.execute_reply.started": "2024-09-29T16:58:48.425622Z",
          "shell.execute_reply": "2024-09-29T16:59:14.051699Z"
        },
        "trusted": true,
        "id": "z5-DPkm7H9CN"
      },
      "execution_count": null,
      "outputs": []
    },
    {
      "cell_type": "code",
      "source": [
        "fit, ax= plt.subplots(nrows=2, ncols=3, figsize=(15,8))\n",
        "ax=ax.flatten()\n",
        "j=0\n",
        "for _ in range(6):\n",
        "    img, label = X_test_img.next()\n",
        "    #print(img.shape)   #  (1,256,256,3)\n",
        "    ax[j].imshow(img[0],)\n",
        "    ax[j].set_title(label[0])\n",
        "    #plt.show()\n",
        "    j=j+1"
      ],
      "metadata": {
        "execution": {
          "iopub.status.busy": "2024-09-29T16:59:14.053928Z",
          "iopub.execute_input": "2024-09-29T16:59:14.054249Z",
          "iopub.status.idle": "2024-09-29T16:59:17.351079Z",
          "shell.execute_reply.started": "2024-09-29T16:59:14.054219Z",
          "shell.execute_reply": "2024-09-29T16:59:17.349935Z"
        },
        "trusted": true,
        "id": "dqC4kn_CH9CN"
      },
      "execution_count": null,
      "outputs": []
    },
    {
      "cell_type": "code",
      "source": [
        "X_test_img[0][0].shape"
      ],
      "metadata": {
        "execution": {
          "iopub.status.busy": "2024-09-29T16:59:17.352663Z",
          "iopub.execute_input": "2024-09-29T16:59:17.353446Z",
          "iopub.status.idle": "2024-09-29T16:59:17.594456Z",
          "shell.execute_reply.started": "2024-09-29T16:59:17.353407Z",
          "shell.execute_reply": "2024-09-29T16:59:17.593389Z"
        },
        "trusted": true,
        "id": "3raICBzOH9CN"
      },
      "execution_count": null,
      "outputs": []
    },
    {
      "cell_type": "code",
      "source": [
        "image_shape=(256,256,3)"
      ],
      "metadata": {
        "execution": {
          "iopub.status.busy": "2024-09-29T16:59:17.595913Z",
          "iopub.execute_input": "2024-09-29T16:59:17.59675Z",
          "iopub.status.idle": "2024-09-29T16:59:17.601641Z",
          "shell.execute_reply.started": "2024-09-29T16:59:17.596704Z",
          "shell.execute_reply": "2024-09-29T16:59:17.600495Z"
        },
        "trusted": true,
        "id": "MB5No5MWH9CN"
      },
      "execution_count": null,
      "outputs": []
    },
    {
      "cell_type": "code",
      "source": [
        "X_train_img.class_indices"
      ],
      "metadata": {
        "execution": {
          "iopub.status.busy": "2024-09-29T16:59:17.606506Z",
          "iopub.execute_input": "2024-09-29T16:59:17.606835Z",
          "iopub.status.idle": "2024-09-29T16:59:17.615706Z",
          "shell.execute_reply.started": "2024-09-29T16:59:17.606795Z",
          "shell.execute_reply": "2024-09-29T16:59:17.614747Z"
        },
        "trusted": true,
        "id": "Fi4-WPC9H9CN"
      },
      "execution_count": null,
      "outputs": []
    },
    {
      "cell_type": "code",
      "source": [
        "X_val_img.class_indices"
      ],
      "metadata": {
        "execution": {
          "iopub.status.busy": "2024-09-29T16:59:17.617096Z",
          "iopub.execute_input": "2024-09-29T16:59:17.617703Z",
          "iopub.status.idle": "2024-09-29T16:59:17.626207Z",
          "shell.execute_reply.started": "2024-09-29T16:59:17.617664Z",
          "shell.execute_reply": "2024-09-29T16:59:17.625257Z"
        },
        "trusted": true,
        "id": "YolbPt1_H9CO"
      },
      "execution_count": null,
      "outputs": []
    },
    {
      "cell_type": "code",
      "source": [
        "X_test_img.class_indices"
      ],
      "metadata": {
        "execution": {
          "iopub.status.busy": "2024-09-29T16:59:17.627231Z",
          "iopub.execute_input": "2024-09-29T16:59:17.627519Z",
          "iopub.status.idle": "2024-09-29T16:59:17.63676Z",
          "shell.execute_reply.started": "2024-09-29T16:59:17.627492Z",
          "shell.execute_reply": "2024-09-29T16:59:17.635883Z"
        },
        "trusted": true,
        "id": "OgG0Hj86H9CO"
      },
      "execution_count": null,
      "outputs": []
    },
    {
      "cell_type": "code",
      "source": [
        "data_augmentation = tf.keras.Sequential([\n",
        "    tf.keras.layers.RandomFlip('horizontal'),\n",
        "    tf.keras.layers.RandomRotation(0.2)\n",
        "])"
      ],
      "metadata": {
        "execution": {
          "iopub.status.busy": "2024-09-29T16:59:17.637798Z",
          "iopub.execute_input": "2024-09-29T16:59:17.638084Z",
          "iopub.status.idle": "2024-09-29T16:59:19.461535Z",
          "shell.execute_reply.started": "2024-09-29T16:59:17.638035Z",
          "shell.execute_reply": "2024-09-29T16:59:19.460602Z"
        },
        "trusted": true,
        "id": "MTXuCghNH9CO"
      },
      "execution_count": null,
      "outputs": []
    },
    {
      "cell_type": "code",
      "source": [
        "from tensorflow.keras.models import Sequential, Model\n",
        "from tensorflow.keras.layers import Activation, Dropout, Flatten, Dense, Conv2D, MaxPooling2D, GlobalAveragePooling2D\n",
        "pre_trained= InceptionResNetV2(include_top=False, input_shape=image_shape)\n",
        "\n",
        "#for layers in pre_trained.layers:\n",
        "#    layers.trainable=False\n",
        "pre_trained.trainable=False\n",
        "\n",
        "inputs = pre_trained.input\n",
        "x = data_augmentation(inputs)\n",
        "x = pre_trained(x, training=False)\n",
        "x = GlobalAveragePooling2D()(x)\n",
        "x = Dropout(0.4)(x)\n",
        "output=Dense(18, activation='softmax')(x)\n",
        "model = Model(inputs=inputs, outputs=output)\n",
        "\n",
        "\n",
        "\n",
        "base_learning_rate = 0.0001\n",
        "model.compile(loss='categorical_crossentropy',\n",
        "              optimizer=tf.keras.optimizers.Adam(learning_rate=base_learning_rate),\n",
        "              metrics=['accuracy'])"
      ],
      "metadata": {
        "execution": {
          "iopub.status.busy": "2024-09-29T16:59:19.462943Z",
          "iopub.execute_input": "2024-09-29T16:59:19.463227Z",
          "iopub.status.idle": "2024-09-29T16:59:26.277039Z",
          "shell.execute_reply.started": "2024-09-29T16:59:19.463201Z",
          "shell.execute_reply": "2024-09-29T16:59:26.275959Z"
        },
        "trusted": true,
        "id": "XMRoW6qaH9CO"
      },
      "execution_count": null,
      "outputs": []
    },
    {
      "cell_type": "code",
      "source": [
        "model.summary()"
      ],
      "metadata": {
        "execution": {
          "iopub.status.busy": "2024-09-29T16:59:26.278446Z",
          "iopub.execute_input": "2024-09-29T16:59:26.278832Z",
          "iopub.status.idle": "2024-09-29T16:59:26.31948Z",
          "shell.execute_reply.started": "2024-09-29T16:59:26.278792Z",
          "shell.execute_reply": "2024-09-29T16:59:26.318417Z"
        },
        "trusted": true,
        "id": "SeltyycDH9CO"
      },
      "execution_count": null,
      "outputs": []
    },
    {
      "cell_type": "code",
      "source": [
        "from tensorflow.keras.callbacks import EarlyStopping\n",
        "\n",
        "early_stop = EarlyStopping(monitor='val_loss',patience=1)\n",
        "\n",
        "initial_epoch = 10\n",
        "results = model.fit(X_train_img,epochs= initial_epoch,\n",
        "                              validation_data=X_val_img,\n",
        "                                callbacks=[early_stop])"
      ],
      "metadata": {
        "execution": {
          "iopub.status.busy": "2024-09-29T16:59:26.32067Z",
          "iopub.execute_input": "2024-09-29T16:59:26.320974Z",
          "iopub.status.idle": "2024-09-29T17:36:02.002637Z",
          "shell.execute_reply.started": "2024-09-29T16:59:26.320949Z",
          "shell.execute_reply": "2024-09-29T17:36:02.001719Z"
        },
        "trusted": true,
        "id": "9k1BYHOiH9CO"
      },
      "execution_count": null,
      "outputs": []
    },
    {
      "cell_type": "code",
      "source": [
        "\n",
        "result_df = pd.DataFrame(results.history)\n",
        "fig, ax=plt.subplots(nrows=1, ncols=2,figsize=(18,6))\n",
        "ax=ax.flatten()\n",
        "ax[0].plot(result_df[['accuracy','val_accuracy']])\n",
        "ax[0].set_title(\"Accuracy\")\n",
        "ax[1].plot(result_df[['loss','val_loss']])\n",
        "ax[1].set_title(\"Loss\")"
      ],
      "metadata": {
        "execution": {
          "iopub.status.busy": "2024-09-29T17:36:02.004281Z",
          "iopub.execute_input": "2024-09-29T17:36:02.004687Z",
          "iopub.status.idle": "2024-09-29T17:36:02.415485Z",
          "shell.execute_reply.started": "2024-09-29T17:36:02.004648Z",
          "shell.execute_reply": "2024-09-29T17:36:02.414535Z"
        },
        "trusted": true,
        "id": "DTFu5ODqH9CO"
      },
      "execution_count": null,
      "outputs": []
    },
    {
      "cell_type": "code",
      "source": [
        "pred = model.predict(X_test_img)\n",
        "pred=np.argmax(pred,axis=1)"
      ],
      "metadata": {
        "execution": {
          "iopub.status.busy": "2024-09-29T17:36:02.416978Z",
          "iopub.execute_input": "2024-09-29T17:36:02.417662Z",
          "iopub.status.idle": "2024-09-29T17:36:57.449107Z",
          "shell.execute_reply.started": "2024-09-29T17:36:02.417619Z",
          "shell.execute_reply": "2024-09-29T17:36:57.448202Z"
        },
        "trusted": true,
        "id": "qxickZvPH9CO"
      },
      "execution_count": null,
      "outputs": []
    },
    {
      "cell_type": "code",
      "source": [
        "pred_df=X_test.copy()\n",
        "labels={}\n",
        "for l,v in X_test_img.class_indices.items():\n",
        "    labels.update({v:l})\n",
        "pred_df['pred']=pred\n",
        "pred_df['pred']=pred_df['pred'].apply(lambda x: labels[x])"
      ],
      "metadata": {
        "execution": {
          "iopub.status.busy": "2024-09-29T17:36:57.450408Z",
          "iopub.execute_input": "2024-09-29T17:36:57.450709Z",
          "iopub.status.idle": "2024-09-29T17:36:57.459997Z",
          "shell.execute_reply.started": "2024-09-29T17:36:57.450682Z",
          "shell.execute_reply": "2024-09-29T17:36:57.459105Z"
        },
        "trusted": true,
        "id": "BIYAUEuMH9CO"
      },
      "execution_count": null,
      "outputs": []
    },
    {
      "cell_type": "code",
      "source": [
        "from sklearn.metrics import confusion_matrix, classification_report, accuracy_score\n",
        "print(f\"Accuracy Score: {accuracy_score(pred_df['labels'],pred_df['pred'])}\")\n",
        "sns.heatmap(confusion_matrix(pred_df['labels'],pred_df['pred']), annot=True, fmt='2d')"
      ],
      "metadata": {
        "execution": {
          "iopub.status.busy": "2024-09-29T17:36:57.461314Z",
          "iopub.execute_input": "2024-09-29T17:36:57.461723Z",
          "iopub.status.idle": "2024-09-29T17:36:59.200701Z",
          "shell.execute_reply.started": "2024-09-29T17:36:57.461684Z",
          "shell.execute_reply": "2024-09-29T17:36:59.199731Z"
        },
        "trusted": true,
        "id": "Ho0KJPJaH9CP"
      },
      "execution_count": null,
      "outputs": []
    },
    {
      "cell_type": "code",
      "source": [
        "print(pred_df[pred_df['labels']==pred_df['pred']].head(6))\n",
        "fig, ax=plt.subplots(nrows=2, ncols=3, figsize=(15,8))\n",
        "ax=ax.flatten()\n",
        "imlist=pred_df[pred_df['labels']==pred_df['pred']].head(6).reset_index()\n",
        "for i in range(0,6):\n",
        "    ax[i].imshow(plt.imread(imlist['filepaths'][i]))\n",
        "    ax[i].set_title(imlist['labels'][i])"
      ],
      "metadata": {
        "execution": {
          "iopub.status.busy": "2024-09-29T17:36:59.20207Z",
          "iopub.execute_input": "2024-09-29T17:36:59.203338Z",
          "iopub.status.idle": "2024-09-29T17:37:00.507954Z",
          "shell.execute_reply.started": "2024-09-29T17:36:59.203303Z",
          "shell.execute_reply": "2024-09-29T17:37:00.506602Z"
        },
        "trusted": true,
        "id": "cc8d2YFHH9CP"
      },
      "execution_count": null,
      "outputs": []
    },
    {
      "cell_type": "markdown",
      "source": [
        "Fine Tuning"
      ],
      "metadata": {
        "id": "VmLr_DZTH9CP"
      }
    },
    {
      "cell_type": "code",
      "source": [
        "pre_trained.trainable = True"
      ],
      "metadata": {
        "execution": {
          "iopub.status.busy": "2024-09-29T17:37:00.509692Z",
          "iopub.execute_input": "2024-09-29T17:37:00.510716Z",
          "iopub.status.idle": "2024-09-29T17:37:00.548349Z",
          "shell.execute_reply.started": "2024-09-29T17:37:00.510664Z",
          "shell.execute_reply": "2024-09-29T17:37:00.547426Z"
        },
        "trusted": true,
        "id": "ndpxeKpHH9CP"
      },
      "execution_count": null,
      "outputs": []
    },
    {
      "cell_type": "code",
      "source": [
        "# Let's take a look to see how many layers are in the base model\n",
        "print(\"Number of layers in the base model: \", len(pre_trained.layers))\n",
        "\n",
        "# Fine-tune from this layer onwards\n",
        "fine_tune_at = 100\n",
        "\n",
        "# Freeze all the layers before the `fine_tune_at` layer\n",
        "for layer in pre_trained.layers[:fine_tune_at]:\n",
        "  layer.trainable = False"
      ],
      "metadata": {
        "execution": {
          "iopub.status.busy": "2024-09-29T17:37:00.549698Z",
          "iopub.execute_input": "2024-09-29T17:37:00.55036Z",
          "iopub.status.idle": "2024-09-29T17:37:00.562691Z",
          "shell.execute_reply.started": "2024-09-29T17:37:00.550319Z",
          "shell.execute_reply": "2024-09-29T17:37:00.561814Z"
        },
        "trusted": true,
        "id": "75o-P6HGH9CP"
      },
      "execution_count": null,
      "outputs": []
    },
    {
      "cell_type": "code",
      "source": [
        "model.compile(loss='categorical_crossentropy',\n",
        "              optimizer = tf.keras.optimizers.RMSprop(learning_rate=base_learning_rate/10),\n",
        "              metrics=['accuracy'])"
      ],
      "metadata": {
        "execution": {
          "iopub.status.busy": "2024-09-29T17:37:00.563845Z",
          "iopub.execute_input": "2024-09-29T17:37:00.564177Z",
          "iopub.status.idle": "2024-09-29T17:37:00.5956Z",
          "shell.execute_reply.started": "2024-09-29T17:37:00.564148Z",
          "shell.execute_reply": "2024-09-29T17:37:00.594658Z"
        },
        "trusted": true,
        "id": "lKcdyuvMH9CQ"
      },
      "execution_count": null,
      "outputs": []
    },
    {
      "cell_type": "code",
      "source": [
        "model.summary()"
      ],
      "metadata": {
        "execution": {
          "iopub.status.busy": "2024-09-29T17:37:00.596828Z",
          "iopub.execute_input": "2024-09-29T17:37:00.597135Z",
          "iopub.status.idle": "2024-09-29T17:37:00.641823Z",
          "shell.execute_reply.started": "2024-09-29T17:37:00.597107Z",
          "shell.execute_reply": "2024-09-29T17:37:00.640894Z"
        },
        "trusted": true,
        "id": "tbS_SuRkH9CQ"
      },
      "execution_count": null,
      "outputs": []
    },
    {
      "cell_type": "code",
      "source": [
        "len(model.trainable_variables)"
      ],
      "metadata": {
        "execution": {
          "iopub.status.busy": "2024-09-29T17:37:00.642878Z",
          "iopub.execute_input": "2024-09-29T17:37:00.64319Z",
          "iopub.status.idle": "2024-09-29T17:37:00.656632Z",
          "shell.execute_reply.started": "2024-09-29T17:37:00.643161Z",
          "shell.execute_reply": "2024-09-29T17:37:00.655654Z"
        },
        "trusted": true,
        "id": "dAe2URfGH9CQ"
      },
      "execution_count": null,
      "outputs": []
    },
    {
      "cell_type": "code",
      "source": [
        "fine_tune_epochs = 10\n",
        "total_epochs =  initial_epoch + fine_tune_epochs\n",
        "\n",
        "history_fine = model.fit(X_train_img,\n",
        "                         epochs=total_epochs,\n",
        "                         initial_epoch=10,\n",
        "                         validation_data=X_val_img)"
      ],
      "metadata": {
        "execution": {
          "iopub.status.busy": "2024-09-29T17:37:00.657918Z",
          "iopub.execute_input": "2024-09-29T17:37:00.658377Z",
          "iopub.status.idle": "2024-09-29T18:33:56.779905Z",
          "shell.execute_reply.started": "2024-09-29T17:37:00.658339Z",
          "shell.execute_reply": "2024-09-29T18:33:56.779015Z"
        },
        "trusted": true,
        "id": "khSeIiyGH9CQ"
      },
      "execution_count": null,
      "outputs": []
    },
    {
      "cell_type": "code",
      "source": [
        "acc = []\n",
        "val_acc = []\n",
        "loss = []\n",
        "val_loss = []\n",
        "\n",
        "acc += history_fine.history['accuracy']\n",
        "val_acc += history_fine.history['val_accuracy']\n",
        "\n",
        "loss += history_fine.history['loss']\n",
        "val_loss += history_fine.history['val_loss']"
      ],
      "metadata": {
        "execution": {
          "iopub.status.busy": "2024-09-29T18:33:56.78174Z",
          "iopub.execute_input": "2024-09-29T18:33:56.782164Z",
          "iopub.status.idle": "2024-09-29T18:33:56.789541Z",
          "shell.execute_reply.started": "2024-09-29T18:33:56.782123Z",
          "shell.execute_reply": "2024-09-29T18:33:56.788589Z"
        },
        "trusted": true,
        "id": "2Riu5U1hH9CQ"
      },
      "execution_count": null,
      "outputs": []
    },
    {
      "cell_type": "code",
      "source": [
        "plt.figure(figsize=(8, 8))\n",
        "plt.subplot(2, 1, 1)\n",
        "plt.plot(acc, label='Training Accuracy')\n",
        "plt.plot(val_acc, label='Validation Accuracy')\n",
        "plt.ylim([0.8, 1])\n",
        "plt.plot([initial_epoch-1,initial_epoch-1],\n",
        "          plt.ylim(), label='Start Fine Tuning')\n",
        "plt.legend(loc='lower right')\n",
        "plt.title('Training and Validation Accuracy')\n",
        "\n",
        "plt.subplot(2, 1, 2)\n",
        "plt.plot(loss, label='Training Loss')\n",
        "plt.plot(val_loss, label='Validation Loss')\n",
        "plt.ylim([0, 1.0])\n",
        "plt.plot([initial_epoch-1,initial_epoch-1],\n",
        "         plt.ylim(), label='Start Fine Tuning')\n",
        "plt.legend(loc='upper right')\n",
        "plt.title('Training and Validation Loss')\n",
        "plt.xlabel('epoch')\n",
        "plt.show()"
      ],
      "metadata": {
        "execution": {
          "iopub.status.busy": "2024-09-29T18:33:56.790809Z",
          "iopub.execute_input": "2024-09-29T18:33:56.791203Z",
          "iopub.status.idle": "2024-09-29T18:33:57.24548Z",
          "shell.execute_reply.started": "2024-09-29T18:33:56.791172Z",
          "shell.execute_reply": "2024-09-29T18:33:57.244484Z"
        },
        "trusted": true,
        "id": "opTBJOT3H9CQ"
      },
      "execution_count": null,
      "outputs": []
    },
    {
      "cell_type": "code",
      "source": [
        "model.save(\"fruitNet\", save_format='tf')"
      ],
      "metadata": {
        "execution": {
          "iopub.status.busy": "2024-09-29T18:33:57.246841Z",
          "iopub.execute_input": "2024-09-29T18:33:57.247237Z",
          "iopub.status.idle": "2024-09-29T18:35:59.677309Z",
          "shell.execute_reply.started": "2024-09-29T18:33:57.247196Z",
          "shell.execute_reply": "2024-09-29T18:35:59.676184Z"
        },
        "trusted": true,
        "id": "UvPOF5XvH9CQ"
      },
      "execution_count": null,
      "outputs": []
    }
  ]
}